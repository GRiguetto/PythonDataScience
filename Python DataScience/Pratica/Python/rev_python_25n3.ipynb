{
  "nbformat": 4,
  "nbformat_minor": 0,
  "metadata": {
    "colab": {
      "provenance": []
    },
    "kernelspec": {
      "name": "python3",
      "display_name": "Python 3"
    },
    "language_info": {
      "name": "python"
    }
  },
  "cells": [
    {
      "cell_type": "code",
      "source": [
        "print(\"hello world\")"
      ],
      "metadata": {
        "id": "wCqIViXqGXut"
      },
      "execution_count": null,
      "outputs": []
    },
    {
      "cell_type": "code",
      "source": [
        "#25/09/2025\n",
        "#revisão da linguagem python para análise de dados\n",
        "\n",
        "#crie 3 varieave para que voce se apresente\n",
        "#atribua valores na variaveis e os exiba na tela\n",
        "#me chamo 'fulano, sou'função' e moro em 'cidade'\n",
        "\n",
        "nome = \"matheus\"\n",
        "profissão = \"motorista reprovado\"\n",
        "cidade = \"Rio Preto\"\n",
        "\n",
        "print (\"Me chamo\" , nome , \"sou\" , profissão, \"e moro em\" ,cidade)\n",
        "#uso do format\n",
        "print(f\"Me chamo {nome} sou {profissão} e moro em {cidade}\")\n",
        "\n"
      ],
      "metadata": {
        "id": "mn6dbeIQG5ht"
      },
      "execution_count": null,
      "outputs": []
    },
    {
      "cell_type": "code",
      "source": [
        "## crie um programa que receba a idade de uma pessoa emostre em tela se ela é maio ou menor de idade\n",
        "idade = int\n",
        "\n",
        "idade = int(input(\"Qual a sua idade?\"))\n",
        "\n",
        "if idade >= 18 :\n",
        "    print(f\"sua idade é {idade} voce é maior de idade\")\n",
        "else:\n",
        "    print(f\"sua idade é {idade} voce é menor de idade\")\n"
      ],
      "metadata": {
        "id": "xF9sO_SKKcIY",
        "colab": {
          "base_uri": "https://localhost:8080/"
        },
        "outputId": "74cb4b21-34f1-4e1d-e278-6f60ec26f866"
      },
      "execution_count": null,
      "outputs": [
        {
          "output_type": "stream",
          "name": "stdout",
          "text": [
            "Qual a sua idade?12\n",
            "sua idade é 12 voce é menor de idade\n"
          ]
        }
      ]
    },
    {
      "cell_type": "code",
      "source": [
        "#crie um programa que receba dosi nome e duas alturas.\n",
        "#mostre em tela a mais alta ou se possuem a mesma altura\n",
        "\n",
        "nome1 = input(\"Digite o nome da 1º pessoa\")\n",
        "altura1 = float(input(f\"digite a altura do(a) {nome1}\"))\n",
        "\n",
        "nome2 = input(\"Digite o nome da 2º pessoa\")\n",
        "altura2 = float(input(f\"digite a altura do(a) {nome2}\"))\n",
        "\n",
        "if altura1 > altura2 :\n",
        "    print(f\"{nome1} é mais alta que {nome2}\")\n",
        "elif altura2 > altura1:\n",
        "    print(f\"{nome2} é mais alta que {nome1}\")\n",
        "else:\n",
        "    print(f\"{nome1} e {nome2} tem a mesma altura {altura1}\")"
      ],
      "metadata": {
        "id": "omCc620LUkpz",
        "colab": {
          "base_uri": "https://localhost:8080/"
        },
        "outputId": "443b3cd1-6bc8-49c6-d8d5-a05b7e56012c"
      },
      "execution_count": null,
      "outputs": [
        {
          "output_type": "stream",
          "name": "stdout",
          "text": [
            "Digite o nome da 1º pessoajoao\n",
            "digite a altura do(a) joao1.70\n",
            "Digite o nome da 2º pessoalarissa\n",
            "digite a altura do(a) larissa1.70\n",
            "joao e larissa tem a mesma altura 1.7\n"
          ]
        }
      ]
    },
    {
      "cell_type": "code",
      "source": [
        "#crie u programa que receba o salario e a idade de uma pessoa\n",
        "# se a idade for maior ou igual a 50 e o salario menor que 3500 reajuste o salario em 7.5%\n",
        "#senão reajuste em 5%\n",
        "#mostre o salario reajustado e a diferença bruta de reajuste\n",
        "\n",
        "\n",
        "idade = int (input(\"qual a sua idade\"))\n",
        "salario = float( input(\"qual o seu salario atual\"))\n",
        "#\n",
        "if idade >= 50 and salario < 3500 :\n",
        "    tx = 7.5\n",
        "    salarioReajustado = salario * 1.075\n",
        "else :\n",
        "    tx = 5\n",
        "    salarioReajustado = salario * 1.05\n",
        "#\n",
        "print(f\"Novo salário: R${salarioReajustado} | Taxa de {tx}\")\n",
        "print(f\"Diferença bruta : R${salarioReajustado - salario}\")\n"
      ],
      "metadata": {
        "colab": {
          "base_uri": "https://localhost:8080/"
        },
        "id": "zbpUuwh2VeDJ",
        "outputId": "2dfcf1fd-1987-4b74-b44b-a764476c8019"
      },
      "execution_count": null,
      "outputs": [
        {
          "output_type": "stream",
          "name": "stdout",
          "text": [
            "qual a sua idade10\n",
            "qual o seu salario atual100\n",
            "Novo salário: R$105.0 | Taxa de 5\n",
            "Diferença bruta : R$5.0\n"
          ]
        }
      ]
    },
    {
      "cell_type": "code",
      "source": [
        "#crie um programa que verifica se uma pessoa pode ou não doar sangue.\n",
        "#sera digitada a idade e o peso da pessoa\n",
        "#regra: somente pessoas com idade entre 16 e 69 anos e peso a partir de 50g\n",
        "#podem doar\n",
        "\n",
        "idade = int (input(\"qual a sua idade? \"))\n",
        "peso = float (input(\"qual seu peso? \"))\n",
        "#\n",
        "if (idade < 16 or idade > 69 or peso <= 50) :\n",
        "    print(\"voce não pode doar sangue\")\n",
        "else :\n",
        "    print (\"voce pode doar sangue\")\n"
      ],
      "metadata": {
        "colab": {
          "base_uri": "https://localhost:8080/"
        },
        "id": "yir4x3ZiZqFo",
        "outputId": "0f428d78-8fdd-446c-c0c2-567b442372e3"
      },
      "execution_count": null,
      "outputs": [
        {
          "output_type": "stream",
          "name": "stdout",
          "text": [
            "qual a sua idade16\n",
            "qual seu peso60\n",
            "voce pode doar sangue\n"
          ]
        }
      ]
    },
    {
      "cell_type": "code",
      "source": [
        "#1 - crie um algoritimo que identifique se um numero é impar ou par\n",
        "\n",
        "numero = int(input(\"digite um numero para saber se é par ou impar\"))\n",
        "\n",
        "if numero % 2:\n",
        "    print(\"numero impar\")\n",
        "else:\n",
        "    print(\"numero par\")"
      ],
      "metadata": {
        "colab": {
          "base_uri": "https://localhost:8080/"
        },
        "id": "t_69SFW8i_1I",
        "outputId": "e8f59cdf-6b70-4763-b8f6-0923846b51cf"
      },
      "execution_count": 6,
      "outputs": [
        {
          "output_type": "stream",
          "name": "stdout",
          "text": [
            "digite um numero para saber se é par ou impar1\n",
            "numero impar\n"
          ]
        }
      ]
    },
    {
      "cell_type": "code",
      "source": [
        "# 2- crie um programa que receba a idade e o sakario de uma pessoa\n",
        "#se a idade for maior ou igual a 50 e salario menor que 3.500,\n",
        "#reajuste o salario em 7.5%\n",
        "#se a idade for maior ou igual a 50 e salario maior ou igual a 3500\n",
        "#reajuste de 5%\n",
        "#senao reajuste em 3.5%\n",
        "\n",
        "idade = int(input(\"digite sua idade: \"))\n",
        "salario = float (input(\"Digite seu salário: \"))\n",
        "if idade >= 50 and salario < 3500:\n",
        "    tx = 7.5\n",
        "elif idade > 50 and salario >= 3500:\n",
        "    tx = 5.0\n",
        "else:\n",
        "    tx = 3.5\n",
        "\n",
        "novo_salario = salario * (1+(tx/100))\n",
        "bruto = novo_salario - salario\n",
        "print(f\"Seu salario foi ajustado em {tx}%: R${round(novo_salario , 2)}\")\n",
        "print(f\"Diferença bruta: R${round(bruto,2)}\")"
      ],
      "metadata": {
        "id": "CtihGoLedcMp",
        "colab": {
          "base_uri": "https://localhost:8080/"
        },
        "outputId": "7510acf9-54e0-4a75-ecba-6776b658cc09"
      },
      "execution_count": 9,
      "outputs": [
        {
          "output_type": "stream",
          "name": "stdout",
          "text": [
            "digite sua idade: 19\n",
            "Digite seu salário: 1000\n",
            "Seu salario foi ajustado em 3.5%: R$1035.0\n",
            "Diferença bruta: R$35.0\n"
          ]
        }
      ]
    },
    {
      "cell_type": "code",
      "source": [
        "#29/09/2025\n",
        "#revisao: estruturas de repetição em python\n",
        "\n",
        "# estrutura 'while'\n",
        "\n",
        "cont = 1# variavel contadora\n",
        "while cont <= 10  :\n",
        "    print(f\"lucimar Show de bola\")\n",
        "    # incrementando contador\n",
        "    cont = cont +1"
      ],
      "metadata": {
        "colab": {
          "base_uri": "https://localhost:8080/"
        },
        "id": "6YHYv4YSk_k0",
        "outputId": "80ccbe5d-fa6f-4593-d651-0aaee288f3b3"
      },
      "execution_count": 15,
      "outputs": [
        {
          "output_type": "stream",
          "name": "stdout",
          "text": [
            "1 lucimar Show de bola\n",
            "2 lucimar Show de bola\n",
            "3 lucimar Show de bola\n",
            "4 lucimar Show de bola\n",
            "5 lucimar Show de bola\n",
            "6 lucimar Show de bola\n",
            "7 lucimar Show de bola\n",
            "8 lucimar Show de bola\n",
            "9 lucimar Show de bola\n",
            "10 lucimar Show de bola\n"
          ]
        }
      ]
    },
    {
      "cell_type": "code",
      "source": [
        "#faça o mesmo codigo acima mais mostrando o numero da repetição\n",
        "\n",
        "cont = 1# variavel contadora\n",
        "while cont <= 10  :\n",
        "    print(f\"repetição {cont} lucimar Show de bola\")\n",
        "    # incrementando contador\n",
        "    cont = cont +1"
      ],
      "metadata": {
        "colab": {
          "base_uri": "https://localhost:8080/"
        },
        "id": "NhSvVAEVoleB",
        "outputId": "abe998a7-c8c3-4b0f-800a-644e27c8f058"
      },
      "execution_count": 16,
      "outputs": [
        {
          "output_type": "stream",
          "name": "stdout",
          "text": [
            "repetição 1 lucimar Show de bola\n",
            "repetição 2 lucimar Show de bola\n",
            "repetição 3 lucimar Show de bola\n",
            "repetição 4 lucimar Show de bola\n",
            "repetição 5 lucimar Show de bola\n",
            "repetição 6 lucimar Show de bola\n",
            "repetição 7 lucimar Show de bola\n",
            "repetição 8 lucimar Show de bola\n",
            "repetição 9 lucimar Show de bola\n",
            "repetição 10 lucimar Show de bola\n"
          ]
        }
      ]
    },
    {
      "cell_type": "code",
      "source": [
        "# crie um programa que rece um nume e calcule a sua taboada\n",
        "cont = 0\n",
        "num = int (input(\"Digite um numero para saber a taboada dele\"))\n",
        "while cont <= 10 :\n",
        "    print(f\"{num} X {cont} = {num * cont}\")\n",
        "    cont += 1\n",
        "print(\"\\nFim de programa!\")"
      ],
      "metadata": {
        "colab": {
          "base_uri": "https://localhost:8080/"
        },
        "collapsed": true,
        "id": "DyOPXMfCpWa4",
        "outputId": "7de0b513-811f-4c04-e2c2-e735a4d4e393"
      },
      "execution_count": 27,
      "outputs": [
        {
          "output_type": "stream",
          "name": "stdout",
          "text": [
            "Digite um numero para saber a taboada dele2\n",
            "\n",
            "2 X 0 = 0\n",
            "\n",
            "2 X 1 = 2\n",
            "\n",
            "2 X 2 = 4\n",
            "\n",
            "2 X 3 = 6\n",
            "\n",
            "2 X 4 = 8\n",
            "\n",
            "2 X 5 = 10\n",
            "\n",
            "2 X 6 = 12\n",
            "\n",
            "2 X 7 = 14\n",
            "\n",
            "2 X 8 = 16\n",
            "\n",
            "2 X 9 = 18\n",
            "\n",
            "2 X 10 = 20\n",
            "\n",
            "Fim de programa!\n"
          ]
        }
      ]
    },
    {
      "cell_type": "code",
      "source": [
        "#crie um progra que receba uma frase e quantas vezes o ussaurio gostaria de repetiala\n",
        "\n",
        "cont = 1\n",
        "frase = (input(\"Digite a frase que voce quer repetir\"))\n",
        "rep = int(input(\"digite a quantidade de vezes que voce quer repetir a frase\"))\n",
        "\n",
        "while cont <= rep :\n",
        "    print(f\"{cont} : {frase}\")\n",
        "    cont += 1\n",
        "\n",
        "print(\"fim do programa\")"
      ],
      "metadata": {
        "colab": {
          "base_uri": "https://localhost:8080/"
        },
        "collapsed": true,
        "id": "za8tNzG3sIeI",
        "outputId": "47de9db5-1d6e-4c26-f471-79afbfe051b0"
      },
      "execution_count": 29,
      "outputs": [
        {
          "output_type": "stream",
          "name": "stdout",
          "text": [
            "Digite a frase que voce quer repetirlucimar show de bola\n",
            "digite a quantidade de vezes que voce quer repetir a frase10\n",
            "1 : lucimar show de bola\n",
            "2 : lucimar show de bola\n",
            "3 : lucimar show de bola\n",
            "4 : lucimar show de bola\n",
            "5 : lucimar show de bola\n",
            "6 : lucimar show de bola\n",
            "7 : lucimar show de bola\n",
            "8 : lucimar show de bola\n",
            "9 : lucimar show de bola\n",
            "10 : lucimar show de bola\n",
            "fim do programa\n"
          ]
        }
      ]
    },
    {
      "cell_type": "code",
      "source": [
        "#usando contagem regresiva\n",
        "\n",
        "frase = (input(\"Digite a frase que voce quer repetir\"))\n",
        "rep = int(input(\"digite a quantidade de vezes que voce quer repetir a frase\"))\n",
        "\n",
        "while cont > 0 :\n",
        "    print(f\"{frase}\")\n",
        "    cont = cont - 1\n",
        "\n",
        "print(\"fim do programa\")"
      ],
      "metadata": {
        "colab": {
          "base_uri": "https://localhost:8080/"
        },
        "collapsed": true,
        "id": "6Pk0Y2iuu4oR",
        "outputId": "b88a03c5-98c3-48bb-978c-9f9762df0ddd"
      },
      "execution_count": 33,
      "outputs": [
        {
          "output_type": "stream",
          "name": "stdout",
          "text": [
            "Digite a frase que voce quer repetirola\n",
            "digite a quantidade de vezes que voce quer repetir a frase10\n",
            "ola\n",
            "ola\n",
            "ola\n",
            "ola\n",
            "ola\n",
            "ola\n",
            "ola\n",
            "ola\n",
            "ola\n",
            "ola\n",
            "ola\n",
            "fim do programa\n"
          ]
        }
      ]
    },
    {
      "cell_type": "code",
      "source": [
        "#crie um programa que receba um valor numerico\n",
        "#o programa deve imprimir sia sequencia.. do 1 ao valor do numero\n",
        "#porem somente os valres impares deverao ser impresso\n",
        "\n",
        "num = int (input(\"digite um umero para descobrir a sequencia de impares\"))\n",
        "cont = 0\n",
        "\n",
        "while cont <= num :\n",
        "    if cont % 2 :\n",
        "        print(cont, end=\" \")\n",
        "    cont += 1\n",
        "\n",
        "\n"
      ],
      "metadata": {
        "colab": {
          "base_uri": "https://localhost:8080/"
        },
        "id": "f7SNH07dvltq",
        "outputId": "f26099ec-5321-43c9-fb95-27697f3e59d5"
      },
      "execution_count": 50,
      "outputs": [
        {
          "output_type": "stream",
          "name": "stdout",
          "text": [
            "digite um umero para descobrir a sequencia de impares20\n",
            "1 3 5 7 9 11 13 15 17 19 "
          ]
        }
      ]
    },
    {
      "cell_type": "code",
      "source": [
        "#estrutura de repetição for\n",
        "#crie um programa que exiba 100 numeros em tela, use o comando for\n",
        "\n",
        "for numero in range (1, 101) :\n",
        "    print (numero, end = \" \")"
      ],
      "metadata": {
        "colab": {
          "base_uri": "https://localhost:8080/"
        },
        "id": "0Xtd5sUj-l45",
        "outputId": "1a14dd69-6b93-4c5a-94c0-634dba295662"
      },
      "execution_count": 2,
      "outputs": [
        {
          "output_type": "stream",
          "name": "stdout",
          "text": [
            "1 2 3 4 5 6 7 8 9 10 11 12 13 14 15 16 17 18 19 20 21 22 23 24 25 26 27 28 29 30 31 32 33 34 35 36 37 38 39 40 41 42 43 44 45 46 47 48 49 50 51 52 53 54 55 56 57 58 59 60 61 62 63 64 65 66 67 68 69 70 71 72 73 74 75 76 77 78 79 80 81 82 83 84 85 86 87 88 89 90 91 92 93 94 95 96 97 98 99 100 "
          ]
        }
      ]
    },
    {
      "cell_type": "code",
      "source": [
        "#crie um programa que receba um nome e subistitua suas vogais pelo oque segue\n",
        "# a - @\n",
        "# e - 3\n",
        "# i - 1\n",
        "# o - 0\n",
        "# u - v\n",
        "\n",
        "nome = input(\"Digite uma nome: \")\n",
        "#strip() --> remove espaços em brancos a esqquerda e a direita\n",
        "#lower() --> Deixa todas as letras minusculas\n",
        "nome = nome.strip().lower()\n",
        "nome = nome.replace(\"a\",\"@\").replace(\"e\",\"3\").replace(\"i\",\"1\")\\\n",
        "    .replace(\"o\", \"0\").replace(\"u\",\"v\")\n",
        "for letra in nome :\n",
        "    print(f\"{letra.upper()}\", end=\" \")\n",
        "\n"
      ],
      "metadata": {
        "colab": {
          "base_uri": "https://localhost:8080/"
        },
        "id": "J1QyBgPD_HPK",
        "outputId": "1272d1da-431b-492d-c344-2b2738c853f2"
      },
      "execution_count": 9,
      "outputs": [
        {
          "output_type": "stream",
          "name": "stdout",
          "text": [
            "Digite uma nome: matheus bumbum\n",
            "M @ T H 3 V S   B V M B V M "
          ]
        }
      ]
    },
    {
      "cell_type": "code",
      "source": [
        "#mostre na tela numeros sequencias do 1 ao 500 no entanto somente de 5 em 5\n",
        "\n",
        "for numero in range (0, 501, 5):\n",
        "    if  numero == 0:\n",
        "        continue #comando contiune enterrme o lupe e o retorna para o inicio\n",
        "    print (numero , end = \" \")"
      ],
      "metadata": {
        "colab": {
          "base_uri": "https://localhost:8080/"
        },
        "id": "gu9uG2FPBuu5",
        "outputId": "07a7bb41-9678-497b-b698-63b3133b01ac"
      },
      "execution_count": 13,
      "outputs": [
        {
          "output_type": "stream",
          "name": "stdout",
          "text": [
            "5 10 15 20 25 30 35 40 45 50 55 60 65 70 75 80 85 90 95 100 105 110 115 120 125 130 135 140 145 150 155 160 165 170 175 180 185 190 195 200 205 210 215 220 225 230 235 240 245 250 255 260 265 270 275 280 285 290 295 300 305 310 315 320 325 330 335 340 345 350 355 360 365 370 375 380 385 390 395 400 405 410 415 420 425 430 435 440 445 450 455 460 465 470 475 480 485 490 495 500 "
          ]
        }
      ]
    },
    {
      "cell_type": "code",
      "source": [
        "#foguete\n",
        "cont = 10\n",
        "foguete= input(\"qual o nome do seu foguete\")\n",
        "while cont > 0 :\n",
        "    print(f\"{cont}\")\n",
        "    cont -= 1\n",
        "print(f\"lancamento do foguete {foguete} iniciado\")"
      ],
      "metadata": {
        "colab": {
          "base_uri": "https://localhost:8080/"
        },
        "id": "N-tNJflhEFKo",
        "outputId": "3de65d01-2bae-48c9-a4ff-fe519f5f1eab"
      },
      "execution_count": 16,
      "outputs": [
        {
          "output_type": "stream",
          "name": "stdout",
          "text": [
            "qual o nome do seu foguetewaldir space experience\n",
            "10\n",
            "9\n",
            "8\n",
            "7\n",
            "6\n",
            "5\n",
            "4\n",
            "3\n",
            "2\n",
            "1\n",
            "lancamento do foguete waldir space experience iniciado\n"
          ]
        }
      ]
    },
    {
      "cell_type": "code",
      "source": [
        "for numero in range (1000,0,-1):\n",
        "    print (numero, end=\" \" )"
      ],
      "metadata": {
        "colab": {
          "base_uri": "https://localhost:8080/"
        },
        "id": "LeBKod3ZGLpB",
        "outputId": "06ac0aa7-177b-4ad3-9696-0dac1507844c"
      },
      "execution_count": 17,
      "outputs": [
        {
          "output_type": "stream",
          "name": "stdout",
          "text": [
            "1000 999 998 997 996 995 994 993 992 991 990 989 988 987 986 985 984 983 982 981 980 979 978 977 976 975 974 973 972 971 970 969 968 967 966 965 964 963 962 961 960 959 958 957 956 955 954 953 952 951 950 949 948 947 946 945 944 943 942 941 940 939 938 937 936 935 934 933 932 931 930 929 928 927 926 925 924 923 922 921 920 919 918 917 916 915 914 913 912 911 910 909 908 907 906 905 904 903 902 901 900 899 898 897 896 895 894 893 892 891 890 889 888 887 886 885 884 883 882 881 880 879 878 877 876 875 874 873 872 871 870 869 868 867 866 865 864 863 862 861 860 859 858 857 856 855 854 853 852 851 850 849 848 847 846 845 844 843 842 841 840 839 838 837 836 835 834 833 832 831 830 829 828 827 826 825 824 823 822 821 820 819 818 817 816 815 814 813 812 811 810 809 808 807 806 805 804 803 802 801 800 799 798 797 796 795 794 793 792 791 790 789 788 787 786 785 784 783 782 781 780 779 778 777 776 775 774 773 772 771 770 769 768 767 766 765 764 763 762 761 760 759 758 757 756 755 754 753 752 751 750 749 748 747 746 745 744 743 742 741 740 739 738 737 736 735 734 733 732 731 730 729 728 727 726 725 724 723 722 721 720 719 718 717 716 715 714 713 712 711 710 709 708 707 706 705 704 703 702 701 700 699 698 697 696 695 694 693 692 691 690 689 688 687 686 685 684 683 682 681 680 679 678 677 676 675 674 673 672 671 670 669 668 667 666 665 664 663 662 661 660 659 658 657 656 655 654 653 652 651 650 649 648 647 646 645 644 643 642 641 640 639 638 637 636 635 634 633 632 631 630 629 628 627 626 625 624 623 622 621 620 619 618 617 616 615 614 613 612 611 610 609 608 607 606 605 604 603 602 601 600 599 598 597 596 595 594 593 592 591 590 589 588 587 586 585 584 583 582 581 580 579 578 577 576 575 574 573 572 571 570 569 568 567 566 565 564 563 562 561 560 559 558 557 556 555 554 553 552 551 550 549 548 547 546 545 544 543 542 541 540 539 538 537 536 535 534 533 532 531 530 529 528 527 526 525 524 523 522 521 520 519 518 517 516 515 514 513 512 511 510 509 508 507 506 505 504 503 502 501 500 499 498 497 496 495 494 493 492 491 490 489 488 487 486 485 484 483 482 481 480 479 478 477 476 475 474 473 472 471 470 469 468 467 466 465 464 463 462 461 460 459 458 457 456 455 454 453 452 451 450 449 448 447 446 445 444 443 442 441 440 439 438 437 436 435 434 433 432 431 430 429 428 427 426 425 424 423 422 421 420 419 418 417 416 415 414 413 412 411 410 409 408 407 406 405 404 403 402 401 400 399 398 397 396 395 394 393 392 391 390 389 388 387 386 385 384 383 382 381 380 379 378 377 376 375 374 373 372 371 370 369 368 367 366 365 364 363 362 361 360 359 358 357 356 355 354 353 352 351 350 349 348 347 346 345 344 343 342 341 340 339 338 337 336 335 334 333 332 331 330 329 328 327 326 325 324 323 322 321 320 319 318 317 316 315 314 313 312 311 310 309 308 307 306 305 304 303 302 301 300 299 298 297 296 295 294 293 292 291 290 289 288 287 286 285 284 283 282 281 280 279 278 277 276 275 274 273 272 271 270 269 268 267 266 265 264 263 262 261 260 259 258 257 256 255 254 253 252 251 250 249 248 247 246 245 244 243 242 241 240 239 238 237 236 235 234 233 232 231 230 229 228 227 226 225 224 223 222 221 220 219 218 217 216 215 214 213 212 211 210 209 208 207 206 205 204 203 202 201 200 199 198 197 196 195 194 193 192 191 190 189 188 187 186 185 184 183 182 181 180 179 178 177 176 175 174 173 172 171 170 169 168 167 166 165 164 163 162 161 160 159 158 157 156 155 154 153 152 151 150 149 148 147 146 145 144 143 142 141 140 139 138 137 136 135 134 133 132 131 130 129 128 127 126 125 124 123 122 121 120 119 118 117 116 115 114 113 112 111 110 109 108 107 106 105 104 103 102 101 100 99 98 97 96 95 94 93 92 91 90 89 88 87 86 85 84 83 82 81 80 79 78 77 76 75 74 73 72 71 70 69 68 67 66 65 64 63 62 61 60 59 58 57 56 55 54 53 52 51 50 49 48 47 46 45 44 43 42 41 40 39 38 37 36 35 34 33 32 31 30 29 28 27 26 25 24 23 22 21 20 19 18 17 16 15 14 13 12 11 10 9 8 7 6 5 4 3 2 1 "
          ]
        }
      ]
    }
  ]
}