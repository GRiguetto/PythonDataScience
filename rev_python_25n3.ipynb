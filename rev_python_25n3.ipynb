{
  "nbformat": 4,
  "nbformat_minor": 0,
  "metadata": {
    "colab": {
      "provenance": [],
      "authorship_tag": "ABX9TyNh2UaVSOZxEAQ86tEiVVV7",
      "include_colab_link": true
    },
    "kernelspec": {
      "name": "python3",
      "display_name": "Python 3"
    },
    "language_info": {
      "name": "python"
    }
  },
  "cells": [
    {
      "cell_type": "markdown",
      "metadata": {
        "id": "view-in-github",
        "colab_type": "text"
      },
      "source": [
        "<a href=\"https://colab.research.google.com/github/GRiguetto/PythonDataScience/blob/main/rev_python_25n3.ipynb\" target=\"_parent\"><img src=\"https://colab.research.google.com/assets/colab-badge.svg\" alt=\"Open In Colab\"/></a>"
      ]
    },
    {
      "cell_type": "code",
      "source": [
        "print(\"hello world\")"
      ],
      "metadata": {
        "id": "wCqIViXqGXut"
      },
      "execution_count": null,
      "outputs": []
    },
    {
      "cell_type": "code",
      "source": [
        "#25/09/2025\n",
        "#revisão da linguagem python para análise de dados\n",
        "\n",
        "#crie 3 varieave para que voce se apresente\n",
        "#atribua valores na variaveis e os exiba na tela\n",
        "#me chamo 'fulano, sou'função' e moro em 'cidade'\n",
        "\n",
        "nome = \"matheus\"\n",
        "profissão = \"motorista reprovado\"\n",
        "cidade = \"Rio Preto\"\n",
        "\n",
        "print (\"Me chamo\" , nome , \"sou\" , profissão, \"e moro em\" ,cidade)\n",
        "#uso do format\n",
        "print(f\"Me chamo {nome} sou {profissão} e moro em {cidade}\")\n",
        "\n"
      ],
      "metadata": {
        "id": "mn6dbeIQG5ht"
      },
      "execution_count": null,
      "outputs": []
    },
    {
      "cell_type": "code",
      "source": [
        "## crie um programa que receba a idade de uma pessoa emostre em tela se ela é maio ou menor de idade\n",
        "idade = int\n",
        "\n",
        "idade = int(input(\"Qual a sua idade?\"))\n",
        "\n",
        "if idade >= 18 :\n",
        "    print(f\"sua idade é {idade} voce é maior de idade\")\n",
        "else:\n",
        "    print(f\"sua idade é {idade} voce é menor de idade\")\n"
      ],
      "metadata": {
        "id": "xF9sO_SKKcIY",
        "colab": {
          "base_uri": "https://localhost:8080/"
        },
        "outputId": "74cb4b21-34f1-4e1d-e278-6f60ec26f866"
      },
      "execution_count": 5,
      "outputs": [
        {
          "output_type": "stream",
          "name": "stdout",
          "text": [
            "Qual a sua idade?12\n",
            "sua idade é 12 voce é menor de idade\n"
          ]
        }
      ]
    },
    {
      "cell_type": "code",
      "source": [
        "#crie um programa que receba dosi nome e duas alturas.\n",
        "#mostre em tela a mais alta ou se possuem a mesma altura\n",
        "\n",
        "nome1 = input(\"Digite o nome da 1º pessoa\")\n",
        "altura1 = float(input(f\"digite a altura do(a) {nome1}\"))\n",
        "\n",
        "nome2 = input(\"Digite o nome da 2º pessoa\")\n",
        "altura2 = float(input(f\"digite a altura do(a) {nome2}\"))\n",
        "\n",
        "if altura1 > altura2 :\n",
        "    print(f\"{nome1} é mais alta que {nome2}\")\n",
        "elif altura2 > altura1:\n",
        "    print(f\"{nome2} é mais alta que {nome1}\")\n",
        "else:\n",
        "    print(f\"{nome1} e {nome2} tem a mesma altura {altura1}\")"
      ],
      "metadata": {
        "id": "omCc620LUkpz",
        "colab": {
          "base_uri": "https://localhost:8080/"
        },
        "outputId": "443b3cd1-6bc8-49c6-d8d5-a05b7e56012c"
      },
      "execution_count": 3,
      "outputs": [
        {
          "output_type": "stream",
          "name": "stdout",
          "text": [
            "Digite o nome da 1º pessoajoao\n",
            "digite a altura do(a) joao1.70\n",
            "Digite o nome da 2º pessoalarissa\n",
            "digite a altura do(a) larissa1.70\n",
            "joao e larissa tem a mesma altura 1.7\n"
          ]
        }
      ]
    },
    {
      "cell_type": "code",
      "source": [
        "#crie u programa que receba o salario e a idade de uma pessoa\n",
        "# se a idade for maior ou igual a 50 e o salario menor que 3500 reajuste o salario em 7.5%\n",
        "#senão reajuste em 5%\n",
        "#mostre o salario reajustado e a diferença bruta de reajuste\n",
        "\n",
        "\n",
        "idade = int (input(\"qual a sua idade\"))\n",
        "salario = float( input(\"qual o seu salario atual\"))\n",
        "#\n",
        "if idade >= 50 and salario < 3500 :\n",
        "    tx = 7.5\n",
        "    salarioReajustado = salario * 1.075\n",
        "else :\n",
        "    tx = 5\n",
        "    salarioReajustado = salario * 1.05\n",
        "#\n",
        "print(f\"Novo salário: R${salarioReajustado} | Taxa de {tx}\")\n",
        "print(f\"Diferença bruta : R${salarioReajustado - salario}\")\n"
      ],
      "metadata": {
        "colab": {
          "base_uri": "https://localhost:8080/"
        },
        "id": "zbpUuwh2VeDJ",
        "outputId": "2dfcf1fd-1987-4b74-b44b-a764476c8019"
      },
      "execution_count": 12,
      "outputs": [
        {
          "output_type": "stream",
          "name": "stdout",
          "text": [
            "qual a sua idade10\n",
            "qual o seu salario atual100\n",
            "Novo salário: R$105.0 | Taxa de 5\n",
            "Diferença bruta : R$5.0\n"
          ]
        }
      ]
    },
    {
      "cell_type": "code",
      "source": [
        "#crie um programa que verifica se uma pessoa pode ou não doar sangue.\n",
        "#sera digitada a idade e o peso da pessoa\n",
        "#regra: somente pessoas com idade entre 16 e 69 anos e peso a partir de 50g\n",
        "#podem doar\n",
        "\n",
        "idade = int (input(\"qual a sua idade? \"))\n",
        "peso = float (input(\"qual seu peso? \"))\n",
        "#\n",
        "if (idade < 16 or idade > 69 or peso <= 50) :\n",
        "    print(\"voce não pode doar sangue\")\n",
        "else :\n",
        "    print (\"voce pode doar sangue\")\n",
        ""
      ],
      "metadata": {
        "colab": {
          "base_uri": "https://localhost:8080/"
        },
        "id": "yir4x3ZiZqFo",
        "outputId": "0f428d78-8fdd-446c-c0c2-567b442372e3"
      },
      "execution_count": 14,
      "outputs": [
        {
          "output_type": "stream",
          "name": "stdout",
          "text": [
            "qual a sua idade16\n",
            "qual seu peso60\n",
            "voce pode doar sangue\n"
          ]
        }
      ]
    },
    {
      "cell_type": "code",
      "source": [],
      "metadata": {
        "id": "CtihGoLedcMp"
      },
      "execution_count": null,
      "outputs": []
    }
  ]
}